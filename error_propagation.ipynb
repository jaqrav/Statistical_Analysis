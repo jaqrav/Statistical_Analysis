{
 "cells": [
  {
   "cell_type": "markdown",
   "id": "cbdceb1c",
   "metadata": {},
   "source": [
    "# Error propagation and correlations\n",
    "\n",
    "Let's consider a rectangular prism of dimansions:\n",
    "\n",
    "$a = 1$, $b = 2$, $c = 3$,\n",
    "\n",
    "measured with uncertainties:\n",
    "\n",
    "$\\sigma_{a}=0.1$, $\\sigma_{b}=0.15$, $\\sigma_{c}=0.2$,\n",
    "\n",
    "and calculate its:\n",
    "\n",
    "a. volume, surface and total length of all edges \n",
    "\n",
    "b. uncertainties of volume, surface and total length based on the error propagation\n",
    "\n",
    "c. expected correlation between these three quantities,\n",
    "\n",
    "d. make simulation for checking."
   ]
  },
  {
   "cell_type": "code",
   "execution_count": null,
   "id": "35f53d40",
   "metadata": {},
   "outputs": [
    {
     "name": "stdout",
     "output_type": "stream",
     "text": [
      "volume = 6.00 +/- 0.85\n",
      "surface = 22.00 +/- 1.97\n",
      "total_length = 24.00 +/- 1.08\n"
     ]
    }
   ],
   "source": [
    "import numpy as np\n",
    "\n",
    "# prism's sides\n",
    "a = 1\n",
    "b = 2\n",
    "c = 3\n",
    "\n",
    "sigma_a = 0.1\n",
    "sigma_b = 0.15\n",
    "sigma_c = 0.2\n",
    "\n",
    "# a. volume, surface and total length\n",
    "volume = a*b*c\n",
    "surface = 2*(a*b + b*c + a*c)\n",
    "total_length = 4*(a + b + c)\n",
    "\n",
    "# b. uncertainties\n",
    "# The uncertainties are based on the error propagation\n",
    "\n",
    "sigma_volume = volume*np.sqrt((sigma_a/a)**2 + (sigma_b/b)**2 + (sigma_c/c)**2)\n",
    "sigma_surface = 2*np.sqrt((b + c)**2*sigma_a**2 + (a + c)**2*sigma_b**2 + (a + b)**2*sigma_c**2)\n",
    "sigma_length = 4*np.sqrt(sigma_a**2 + sigma_b**2 + sigma_c**2)\n",
    "\n",
    "print(\"volume =\", \"{:.2f}\".format(volume), \"+/-\", \"{:.2f}\".format(sigma_volume))\n",
    "print(\"surface =\", \"{:.2f}\".format(surface), \"+/-\", \"{:.2f}\".format(sigma_surface))\n",
    "print(\"total_length =\", \"{:.2f}\".format(total_length), \"+/-\", \"{:.2f}\".format(sigma_length))"
   ]
  },
  {
   "cell_type": "markdown",
   "id": "014ff6bf",
   "metadata": {},
   "source": [
    "Covariance matrix $C_{x}$ is diagonal as $a$, $b$ and $c$ are independent variables:\n",
    "\n",
    "$C_{x}=\n",
    "\\begin{bmatrix}\n",
    "\\sigma_{a}^{2} & 0 & 0\\\\\n",
    "0 & \\sigma_{b}^{2} & 0 \\\\\n",
    "0 & 0 & \\sigma_{c}^{2} \\\\\n",
    "\\end{bmatrix}$\n",
    "\n",
    "Matrix of partial derivaties:\n",
    "\n",
    "$P=\n",
    "\\begin{bmatrix}\n",
    "\\frac{\\partial V}{\\partial a} & \\frac{\\partial V}{\\partial b} & \\frac{\\partial V}{\\partial c}\\\\\n",
    "\\frac{\\partial S}{\\partial a} & \\frac{\\partial S}{\\partial b} & \\frac{\\partial S}{\\partial c}\\\\\n",
    "\\frac{\\partial L}{\\partial a} & \\frac{\\partial L}{\\partial b} & \\frac{\\partial L}{\\partial c}\n",
    "\\end{bmatrix}\n",
    "=\\begin{bmatrix}\n",
    "bc & ac & ab\\\\\n",
    "2(b+c) & 2(a+c) & 2(a+b)\\\\\n",
    "4 & 4 & 4\n",
    "\\end{bmatrix}$\n",
    "\n",
    "Covariance matrix $C_{y}$ can be expressed as:\n",
    "\n",
    "$C_{y}=P.C_{x}.P^{T}=\n",
    "\\begin{bmatrix}\n",
    "bc & ac & ab\\\\\n",
    "2(b+c) & 2(a+c) & 2(a+b)\\\\\n",
    "4 & 4 & 4\n",
    "\\end{bmatrix}.\n",
    "\\begin{bmatrix}\n",
    "\\sigma_{a}^{2} & 0 & 0\\\\\n",
    "0 & \\sigma_{b}^{2} & 0 \\\\\n",
    "0 & 0 & \\sigma_{c}^{2} \\\\\n",
    "\\end{bmatrix}.\n",
    "\\begin{bmatrix}\n",
    "bc & 2(b+c) & 4 \\\\\n",
    "ac & 2(a+c) & 4 \\\\\n",
    "ab & 2(a+b) & 4\n",
    "\\end{bmatrix}$\n",
    "\n",
    "From the above matrix, we can obtain the expressions for expected correlations between volume, surface and length:\n",
    "\n",
    "$\\rho_{VS}=\\frac{2(\\sigma_{a}^{2}(b+c)bc+\\sigma_{b}^{2}(a+c)ac+\\sigma_{c}^{2}(a+b)ab)}{\\sigma_{V} \\cdot \\sigma_{S}}$,\n",
    "\n",
    "$\\rho_{VL}=\\frac{4(\\sigma_{a}^{2}bc+\\sigma_{b}^{2}ac+\\sigma_{c}^{2}ab)}{\\sigma_{V} \\cdot \\sigma_{L}}$,\n",
    "\n",
    "$\\rho_{SL}=\\frac{8(\\sigma_{a}^{2}(b+c)+\\sigma_{b}^{2}(a+c)+\\sigma_{c}^{2}(a+b))}{\\sigma_{S} \\cdot \\sigma_{L}}$."
   ]
  },
  {
   "cell_type": "code",
   "execution_count": 12,
   "id": "aee2ac8b",
   "metadata": {},
   "outputs": [
    {
     "name": "stdout",
     "output_type": "stream",
     "text": [
      "Volume-surface correlation = 0.97\n",
      "Volume-length correlation = 0.91\n",
      "Surface-length correlation = 0.98\n"
     ]
    }
   ],
   "source": [
    "# c. correclation based on the above analysis\n",
    "\n",
    "rho_VS = 2*(sigma_a**2*(b+c)*b*c+sigma_b**2*(a+c)*a*c+sigma_c**2*(a+b)*b*a)/(sigma_volume*sigma_surface)\n",
    "rho_VL = 4*(sigma_a**2*b*c+sigma_b**2*a*c+sigma_c**2*b*a)/(sigma_volume*sigma_length)\n",
    "rho_SL = 8*(sigma_a**2*(b+c)+sigma_b**2*(a+c)+sigma_c**2*(a+b))/(sigma_surface*sigma_length)\n",
    "\n",
    "print(\"Volume-surface correlation =\", \"{:.2f}\".format(rho_VS))\n",
    "print(\"Volume-length correlation =\", \"{:.2f}\".format(rho_VL))\n",
    "print(\"Surface-length correlation =\", \"{:.2f}\".format(rho_SL))"
   ]
  },
  {
   "cell_type": "code",
   "execution_count": 29,
   "id": "22425b40",
   "metadata": {},
   "outputs": [
    {
     "name": "stdout",
     "output_type": "stream",
     "text": [
      "Percentage of cases with volume within one sigma = 0.68230\n",
      "Percentage of cases with surface within one sigma = 0.68050\n",
      "Percentage of cases with length within one sigma = 0.68130\n"
     ]
    }
   ],
   "source": [
    "# d. simulation\n",
    "\n",
    "num_sim = 10000\n",
    "a_random = np.random.normal(loc = a, scale = sigma_a, size = num_sim)\n",
    "b_random = np.random.normal(loc = b, scale = sigma_b, size = num_sim)\n",
    "c_random = np.random.normal(loc = c, scale = sigma_c, size = num_sim)\n",
    "\n",
    "volume_sim = a_random*b_random*c_random\n",
    "surface_sim = 2*(a_random*b_random + a_random*c_random + b_random*c_random)\n",
    "length_sim = 4*(a_random + b_random + c_random)\n",
    "\n",
    "volume_in_one_sigma = volume_sim[np.logical_and(volume_sim < volume + sigma_volume, volume_sim > volume - sigma_volume)]\n",
    "surface_in_one_sigma = surface_sim[np.logical_and(surface_sim < surface + sigma_surface, surface_sim > surface - sigma_surface)]\n",
    "length_in_one_sigma = surface_sim[np.logical_and(length_sim < total_length + sigma_length, length_sim > total_length - sigma_length)]\n",
    "\n",
    "print(\"Percentage of cases with volume within one sigma =\", \"{:.5f}\".format(len(volume_in_one_sigma)/num_sim))\n",
    "print(\"Percentage of cases with surface within one sigma =\", \"{:.5f}\".format(len(surface_in_one_sigma)/num_sim))\n",
    "print(\"Percentage of cases with length within one sigma =\", \"{:.5f}\".format(len(length_in_one_sigma)/num_sim))"
   ]
  },
  {
   "cell_type": "markdown",
   "id": "234d0808",
   "metadata": {},
   "source": [
    "Percetage is in line with 1 $\\sigma$ range."
   ]
  }
 ],
 "metadata": {
  "kernelspec": {
   "display_name": "Python 3",
   "language": "python",
   "name": "python3"
  },
  "language_info": {
   "codemirror_mode": {
    "name": "ipython",
    "version": 3
   },
   "file_extension": ".py",
   "mimetype": "text/x-python",
   "name": "python",
   "nbconvert_exporter": "python",
   "pygments_lexer": "ipython3",
   "version": "3.12.1"
  }
 },
 "nbformat": 4,
 "nbformat_minor": 5
}
