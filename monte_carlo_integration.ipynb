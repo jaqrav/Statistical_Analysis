{
 "cells": [
  {
   "cell_type": "markdown",
   "id": "b67a43c0",
   "metadata": {},
   "source": [
    "# Monte Carlo Integration\n",
    "\n",
    "Let's calculate the volume of a solid that is created at the intersection of three cylinders whose axes are perpendicular to each other.\n",
    "\n",
    "The cyliders' height is 1, their radius is 0.5.\n",
    "\n",
    "Compare the result from the MC integration with the exact value."
   ]
  },
  {
   "cell_type": "code",
   "execution_count": 1,
   "id": "2cc52686",
   "metadata": {},
   "outputs": [
    {
     "name": "stdout",
     "output_type": "stream",
     "text": [
      "Exact volume: 0.5858\n",
      "MC volume: 0.5839 +/- 0.0016\n"
     ]
    }
   ],
   "source": [
    "import random\n",
    "import numpy as np\n",
    "\n",
    "'''\n",
    "The side of the cube is 1\n",
    "The radius of the cyliders is 0.5\n",
    "'''\n",
    "\n",
    "# Number of points\n",
    "N = 100000\n",
    "\n",
    "# Count times when points are inside\n",
    "count_inside = 0\n",
    "\n",
    "for i in range(N):\n",
    "    # Draw a point randomly\n",
    "    x = random.uniform(0, 1)\n",
    "    y = random.uniform(0, 1)\n",
    "    z = random.uniform(0, 1)\n",
    "    # Check if the point is in the intersection of the three cylinders\n",
    "    if ((x-0.5)**2 + (y-0.5)** 2 <= 0.5**2) and ((y-0.5)**2 + (z-0.5)** 2 <= 0.5**2) and ((x-0.5)**2 + (z-0.5)** 2 <= 0.5**2):\n",
    "        count_inside += 1\n",
    "\n",
    "# Express volume as ratio of counts inside to total number\n",
    "MC_volume = count_inside/N\n",
    "\n",
    "# Calculate standard deviation\n",
    "MC_std = np.sqrt((MC_volume*(1-MC_volume))/N)\n",
    "\n",
    "# Calculate the exact value of the volume\n",
    "exact_volume = 2 - np.sqrt(2)\n",
    "\n",
    "print(\"Exact volume:\",\"{:.4}\".format(exact_volume))\n",
    "print(\"MC volume:\",\"{:.4}\".format(MC_volume),\"+/-\",\"{:.2}\".format(MC_std))"
   ]
  }
 ],
 "metadata": {
  "kernelspec": {
   "display_name": "Python 3",
   "language": "python",
   "name": "python3"
  },
  "language_info": {
   "codemirror_mode": {
    "name": "ipython",
    "version": 3
   },
   "file_extension": ".py",
   "mimetype": "text/x-python",
   "name": "python",
   "nbconvert_exporter": "python",
   "pygments_lexer": "ipython3",
   "version": "3.12.1"
  }
 },
 "nbformat": 4,
 "nbformat_minor": 5
}
